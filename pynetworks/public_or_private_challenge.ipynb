{
 "cells": [
  {
   "cell_type": "code",
   "execution_count": 1,
   "metadata": {
    "ExecuteTime": {
     "end_time": "2018-03-10T08:02:43.158877Z",
     "start_time": "2018-03-10T08:02:36.005301Z"
    }
   },
   "outputs": [
    {
     "name": "stdout",
     "output_type": "stream",
     "text": [
      "Enter IP Address10.10.10.0\n"
     ]
    }
   ],
   "source": [
    "ip = input('Enter IP Address')"
   ]
  },
  {
   "cell_type": "code",
   "execution_count": 10,
   "metadata": {
    "ExecuteTime": {
     "end_time": "2018-03-10T08:08:26.250801Z",
     "start_time": "2018-03-10T08:08:22.119066Z"
    }
   },
   "outputs": [
    {
     "name": "stdout",
     "output_type": "stream",
     "text": [
      "Enter IP Address30.1.1.1\n",
      " this is not private iP address\n"
     ]
    }
   ],
   "source": [
    "ip = input('Enter IP Address')\n",
    "first_octact=ip.split('.')[0]\n",
    "first_octact\n",
    "if first_octact in ['10','172','192']:\n",
    "    print(\"public\")\n",
    "else :\n",
    "        print(\" this is not private iP address\")\n",
    "        "
   ]
  },
  {
   "cell_type": "code",
   "execution_count": null,
   "metadata": {
    "collapsed": true
   },
   "outputs": [],
   "source": []
  }
 ],
 "metadata": {
  "kernelspec": {
   "display_name": "Python 3",
   "language": "python",
   "name": "python3"
  },
  "language_info": {
   "codemirror_mode": {
    "name": "ipython",
    "version": 3
   },
   "file_extension": ".py",
   "mimetype": "text/x-python",
   "name": "python",
   "nbconvert_exporter": "python",
   "pygments_lexer": "ipython3",
   "version": "3.6.2"
  }
 },
 "nbformat": 4,
 "nbformat_minor": 2
}
