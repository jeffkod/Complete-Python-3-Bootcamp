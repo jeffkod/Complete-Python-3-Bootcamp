{
 "cells": [
  {
   "cell_type": "code",
   "execution_count": 10,
   "metadata": {},
   "outputs": [],
   "source": [
    "# writing to a file\n",
    "filename=\"log_1.txt\"\n",
    "with open(filename) as _:\n",
    "    sh_int_op=_.read()"
   ]
  },
  {
   "cell_type": "code",
   "execution_count": 11,
   "metadata": {},
   "outputs": [
    {
     "data": {
      "text/plain": [
       "'Ethernet 0 is up, line protocol is up\\nHardware is MCI Ethernet, address is 0000.0c00.750c (bia 0000.0c00.750c)\\nInternet address is 131.108.28.8, subnet mask is 255.255.255.0\\nMTU 1500 bytes, BW 10000 Kbit, DLY 100000 usec, rely 255/255, load 1/255\\nEncapsulation ARPA, loopback not set, keepalive set (10 sec)\\nARP type: ARPA, ARP Timeout 4:00:00\\nLast input 0:00:00, output 0:00:00, output hang never\\nLast clearing of \"show interface\" counters 0:00:00\\nOutput queue 0/40, 0 drops; input queue 0/75, 0 drops\\nFive minute input rate 0 bits/sec, 0 packets/sec\\nFive minute output rate 2000 bits/sec, 4 packets/sec\\n1127576 packets input, 447251251 bytes, 0 no buffer\\nReceived 354125 broadcasts, 0 runts, 0 giants, 57186* throttles\\n0 input errors, 23432 CRC, 0 frame, 0 overrun, 0 ignored, 0 abort\\n5332142 packets output, 496316039 bytes, 0 underruns\\n0 output errors, 432 collisions, 0 interface resets, 0 restarts'"
      ]
     },
     "execution_count": 11,
     "metadata": {},
     "output_type": "execute_result"
    }
   ],
   "source": [
    "sh_int_op"
   ]
  },
  {
   "cell_type": "code",
   "execution_count": 20,
   "metadata": {},
   "outputs": [],
   "source": [
    "ip_addr=sh_int_op.split('\\n')[1].split()[6]\n",
    "mac_addr=sh_int_op.split('\\n')[2].split()[3]"
   ]
  },
  {
   "cell_type": "code",
   "execution_count": 21,
   "metadata": {},
   "outputs": [
    {
     "data": {
      "text/plain": [
       "{'ip_addr': '0000.0c00.750c', 'mac_addr': '131.108.28.8,'}"
      ]
     },
     "execution_count": 21,
     "metadata": {},
     "output_type": "execute_result"
    }
   ],
   "source": [
    "#create disctionary and add value\n",
    "rtr_output_dist=({'ip_addr':ip_addr,'mac_addr':mac_addr})\n",
    "rtr_output_dist"
   ]
  },
  {
   "cell_type": "code",
   "execution_count": 43,
   "metadata": {},
   "outputs": [
    {
     "name": "stdout",
     "output_type": "stream",
     "text": [
      "<class 'tuple'>\n",
      "('log_1.txt', 'log_2.txt')\n"
     ]
    }
   ],
   "source": [
    "#Funcation\n",
    "log_files= \"log_1.txt\",\"log_2.txt\"\n",
    "print(type(log_files))\n",
    "print(log_files)"
   ]
  },
  {
   "cell_type": "code",
   "execution_count": null,
   "metadata": {},
   "outputs": [],
   "source": []
  },
  {
   "cell_type": "code",
   "execution_count": 61,
   "metadata": {},
   "outputs": [],
   "source": [
    "# reading from the files\n",
    "routers = list()\n",
    "for log_file in log_files : \n",
    "    with open(log_file) as _:\n",
    "        sh_int_op = _.read()\n",
    "    # print(\"\\n\",sh_int_op)\n",
    "    mac_addr=sh_int_op.split('\\n')[1].split()[6][:-1]\n",
    "    ip_add=sh_int_op.split('\\n')[2].split()[3] [:-1]\n",
    "    rtr_details_list_dict={'ip_addr':ip_add,'mac_addr':mac_addr}\n",
    "    #print(rtr_details_list_dict)\n",
    "   \n",
    "    routers.append(rtr_details_list_dict)\n",
    "    #print(routers)"
   ]
  },
  {
   "cell_type": "code",
   "execution_count": 63,
   "metadata": {},
   "outputs": [
    {
     "name": "stdout",
     "output_type": "stream",
     "text": [
      "[{'ip_addr': '131.108.28.8', 'mac_addr': '0000.0c00.750'}, {'ip_addr': '10.10.10.10', 'mac_addr': '0000.aaaa.ccc'}]\n"
     ]
    }
   ],
   "source": [
    "print(routers)"
   ]
  },
  {
   "cell_type": "code",
   "execution_count": 71,
   "metadata": {},
   "outputs": [
    {
     "name": "stdout",
     "output_type": "stream",
     "text": [
      "10.10.10.10\n"
     ]
    }
   ],
   "source": [
    "rtr2=routers[1]['ip_addr']\n",
    "print(rtr2)"
   ]
  },
  {
   "cell_type": "code",
   "execution_count": 78,
   "metadata": {},
   "outputs": [
    {
     "name": "stdout",
     "output_type": "stream",
     "text": [
      "131.108.28.8\n",
      "10.10.10.10\n"
     ]
    }
   ],
   "source": [
    "\n",
    "for router in routers:\n",
    "    #router=routers()[ip_addr]\n",
    "    #print(router)\n",
    "    print(router['ip_addr'])"
   ]
  },
  {
   "cell_type": "code",
   "execution_count": 56,
   "metadata": {},
   "outputs": [
    {
     "data": {
      "text/plain": [
       "[{'ip_addr': '10.10.10.10', 'mac_addr': '0000.aaaa.ccc'}]"
      ]
     },
     "execution_count": 56,
     "metadata": {},
     "output_type": "execute_result"
    }
   ],
   "source": [
    "routers = list()\n",
    "routers.append(rtr_details_list_dict)\n",
    "routers"
   ]
  },
  {
   "cell_type": "code",
   "execution_count": 80,
   "metadata": {},
   "outputs": [
    {
     "name": "stdout",
     "output_type": "stream",
     "text": [
      "Ethernet 0 is up, line protocol is up\n",
      "Hardware is MCI Ethernet, address is 0000.aaaa.cccc (bia 0000.0c00.750c)\n",
      "Internet address is 10.10.10.10, subnet mask is 255.255.255.0\n",
      "MTU 1500 bytes, BW 10000 Kbit, DLY 100000 usec, rely 255/255, load 1/255\n",
      "Encapsulation ARPA, loopback not set, keepalive set (10 sec)\n",
      "ARP type: ARPA, ARP Timeout 4:00:00\n",
      "Last input 0:00:00, output 0:00:00, output hang never\n",
      "Last clearing of \"show interface\" counters 0:00:00\n",
      "Output queue 0/40, 0 drops; input queue 0/75, 0 drops\n",
      "Five minute input rate 0 bits/sec, 0 packets/sec\n",
      "Five minute output rate 2000 bits/sec, 4 packets/sec\n",
      "1127576 packets input, 447251251 bytes, 0 no buffer\n",
      "Received 354125 broadcasts, 0 runts, 0 giants, 57186* throttles\n",
      "0 input errors, 23432 CRC, 0 frame, 0 overrun, 0 ignored, 0 abort\n",
      "5332142 packets output, 496316039 bytes, 0 underruns\n",
      "0 output errors, 432 collisions, 0 interface resets, 0 restarts\n"
     ]
    }
   ],
   "source": [
    "# reading from the file\n",
    "with open(log_file) as _:\n",
    "    sh_int_op = _.read()\n",
    "    print(sh_int_op)"
   ]
  },
  {
   "cell_type": "code",
   "execution_count": 86,
   "metadata": {},
   "outputs": [],
   "source": [
    "def past_cisco_sh_int(sh_int_op) :\n",
    "    mac_addr=sh_int_op.split('\\n')[1].split()[6][:-1]\n",
    "    ip_add=sh_int_op.split('\\n')[2].split()[3] [:-1]\n",
    "    rtr_details_list_dict={'ip_addr':ip_add,'mac_addr':mac_addr}\n",
    "    return rtr_details_list_dict"
   ]
  },
  {
   "cell_type": "code",
   "execution_count": 87,
   "metadata": {},
   "outputs": [
    {
     "data": {
      "text/plain": [
       "{'ip_addr': '10.10.10.10', 'mac_addr': '0000.aaaa.ccc'}"
      ]
     },
     "execution_count": 87,
     "metadata": {},
     "output_type": "execute_result"
    }
   ],
   "source": [
    "rtr_details_list_dict"
   ]
  },
  {
   "cell_type": "code",
   "execution_count": 36,
   "metadata": {},
   "outputs": [
    {
     "name": "stdout",
     "output_type": "stream",
     "text": [
      "The Value of i is 0\n",
      "The Value of i is 1\n",
      "The Value of i is 2\n",
      "The Value of i is 3\n",
      "The Value of i is 4\n",
      "The Value of i is 5\n",
      "The Value of i is 6\n",
      "The Value of i is 7\n",
      "The Value of i is 8\n",
      "The Value of i is 9\n"
     ]
    }
   ],
   "source": [
    "for i in range(10) : \n",
    "    print(f'The Value of i is {i}')"
   ]
  },
  {
   "cell_type": "code",
   "execution_count": null,
   "metadata": {},
   "outputs": [],
   "source": []
  }
 ],
 "metadata": {
  "kernelspec": {
   "display_name": "Python 3",
   "language": "python",
   "name": "python3"
  },
  "language_info": {
   "codemirror_mode": {
    "name": "ipython",
    "version": 3
   },
   "file_extension": ".py",
   "mimetype": "text/x-python",
   "name": "python",
   "nbconvert_exporter": "python",
   "pygments_lexer": "ipython3",
   "version": "3.6.4"
  }
 },
 "nbformat": 4,
 "nbformat_minor": 2
}
