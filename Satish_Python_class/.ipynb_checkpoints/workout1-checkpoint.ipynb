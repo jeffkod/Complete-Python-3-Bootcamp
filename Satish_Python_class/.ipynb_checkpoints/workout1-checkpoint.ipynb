{
 "cells": [
  {
   "cell_type": "code",
   "execution_count": 7,
   "metadata": {},
   "outputs": [
    {
     "name": "stdout",
     "output_type": "stream",
     "text": [
      "[1, 'two', 3.14159]\n"
     ]
    }
   ],
   "source": [
    "\"\"\"Create a list that contains at least one string, one integer and one float.\n",
    "\n",
    "For example:\n",
    "\n",
    "[1, 'two', 3.14159] \n",
    "\n",
    "Note that the order and number of items doesn't matter. \n",
    "\n",
    "The answer should just be one list on a single line. Don't assign a variable name to the list.\"\"\"\n",
    "print([1,'two',3.14159])"
   ]
  },
  {
   "cell_type": "code",
   "execution_count": 26,
   "metadata": {},
   "outputs": [
    {
     "data": {
      "text/plain": [
       "(dict_keys(['Monday', 'Tuesday']), dict_values([19, 20]))"
      ]
     },
     "execution_count": 26,
     "metadata": {},
     "output_type": "execute_result"
    }
   ],
   "source": [
    "\"\"\"Create a dictionary where all the keys are strings, and all the values are integers.\n",
    "\n",
    "For example:\n",
    "\n",
    "{'Monday':19, 'Tuesday':20}\n",
    "\n",
    "Just write the dictionary on a single line, don't assign a variable name to the dictionary.\"\"\"\n",
    "\n",
    "mydist = {'Monday':19, 'Tuesday':20}\n",
    "mydist.keys(), mydist.values()"
   ]
  },
  {
   "cell_type": "code",
   "execution_count": 27,
   "metadata": {},
   "outputs": [
    {
     "ename": "SyntaxError",
     "evalue": "can't assign to function call (<ipython-input-27-dd6ce4c23fa4>, line 1)",
     "output_type": "error",
     "traceback": [
      "\u001b[1;36m  File \u001b[1;32m\"<ipython-input-27-dd6ce4c23fa4>\"\u001b[1;36m, line \u001b[1;32m1\u001b[0m\n\u001b[1;33m    mydist.keys(), mydist.values() = {'Monday':19, 'Tuesday':20}\u001b[0m\n\u001b[1;37m                                                                ^\u001b[0m\n\u001b[1;31mSyntaxError\u001b[0m\u001b[1;31m:\u001b[0m can't assign to function call\n"
     ]
    }
   ],
   "source": [
    "mydist.keys(), mydist.values() = {'Monday':19, 'Tuesday':20}\n"
   ]
  },
  {
   "cell_type": "code",
   "execution_count": null,
   "metadata": {},
   "outputs": [],
   "source": []
  }
 ],
 "metadata": {
  "kernelspec": {
   "display_name": "Python 3",
   "language": "python",
   "name": "python3"
  },
  "language_info": {
   "codemirror_mode": {
    "name": "ipython",
    "version": 3
   },
   "file_extension": ".py",
   "mimetype": "text/x-python",
   "name": "python",
   "nbconvert_exporter": "python",
   "pygments_lexer": "ipython3",
   "version": "3.6.4"
  }
 },
 "nbformat": 4,
 "nbformat_minor": 2
}
