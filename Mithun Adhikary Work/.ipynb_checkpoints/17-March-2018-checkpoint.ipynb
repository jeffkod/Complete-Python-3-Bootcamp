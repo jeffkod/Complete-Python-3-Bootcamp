{
 "cells": [
  {
   "cell_type": "code",
   "execution_count": 131,
   "metadata": {},
   "outputs": [
    {
     "ename": "SyntaxError",
     "evalue": "invalid syntax (<ipython-input-131-f359db99af35>, line 1)",
     "output_type": "error",
     "traceback": [
      "\u001b[0;36m  File \u001b[0;32m\"<ipython-input-131-f359db99af35>\"\u001b[0;36m, line \u001b[0;32m1\u001b[0m\n\u001b[0;31m    1. Find the IP Address\u001b[0m\n\u001b[0m          ^\u001b[0m\n\u001b[0;31mSyntaxError\u001b[0m\u001b[0;31m:\u001b[0m invalid syntax\n"
     ]
    }
   ],
   "source": [
    "1. Find the IP Address"
   ]
  },
  {
   "cell_type": "code",
   "execution_count": 132,
   "metadata": {},
   "outputs": [],
   "source": [
    "import re"
   ]
  },
  {
   "cell_type": "code",
   "execution_count": 1,
   "metadata": {},
   "outputs": [],
   "source": [
    "sh_int_output='''Ethernet 0 is up, line protocol is up\n",
    "Hardware is MCI Ethernet, address is 0000.0c00.750c (bia 0000.0c00.750c)\n",
    "Internet address is 131.108.28.8, subnet mask is 255.255.255.0\n",
    "MTU 1500 bytes, BW 10000 Kbit, DLY 100000 usec, rely 255/255, load 1/255\n",
    "Encapsulation ARPA, loopback not set, keepalive set (10 sec)\n",
    "ARP type: ARPA, ARP Timeout 4:00:00\n",
    "Last input 0:00:00, output 0:00:00, output hang never\n",
    "Last clearing of \"show interface\" counters 0:00:00\n",
    "Output queue 0/40, 0 drops; input queue 0/75, 0 drops\n",
    "Five minute input rate 0 bits/sec, 0 packets/sec\n",
    "Five minute output rate 2000 bits/sec, 4 packets/sec\n",
    "1127576 packets input, 447251251 bytes, 0 no buffer\n",
    "Received 354125 broadcasts, 0 runts, 0 giants, 57186* throttles\n",
    "0 input errors, 0 CRC, 0 frame, 0 overrun, 0 ignored, 0 abort\n",
    "5332142 packets output, 496316039 bytes, 0 underruns\n",
    "0 output errors, 432 collisions, 0 interface resets, 0 restarts'''"
   ]
  },
  {
   "cell_type": "code",
   "execution_count": 133,
   "metadata": {},
   "outputs": [
    {
     "data": {
      "text/plain": [
       "'Ethernet 0 is up, line protocol is up\\nHardware is MCI Ethernet, address is 0000.0c00.750c (bia 0000.0c00.750c)\\nInternet address is 131.108.28.8, subnet mask is 255.255.255.0\\nMTU 1500 bytes, BW 10000 Kbit, DLY 100000 usec, rely 255/255, load 1/255\\nEncapsulation ARPA, loopback not set, keepalive set (10 sec)\\nARP type: ARPA, ARP Timeout 4:00:00\\nLast input 0:00:00, output 0:00:00, output hang never\\nLast clearing of \"show interface\" counters 0:00:00\\nOutput queue 0/40, 0 drops; input queue 0/75, 0 drops\\nFive minute input rate 0 bits/sec, 0 packets/sec\\nFive minute output rate 2000 bits/sec, 4 packets/sec\\n1127576 packets input, 447251251 bytes, 0 no buffer\\nReceived 354125 broadcasts, 0 runts, 0 giants, 57186* throttles\\n0 input errors, 0 CRC, 0 frame, 0 overrun, 0 ignored, 0 abort\\n5332142 packets output, 496316039 bytes, 0 underruns\\n0 output errors, 432 collisions, 0 interface resets, 0 restarts'"
      ]
     },
     "execution_count": 133,
     "metadata": {},
     "output_type": "execute_result"
    }
   ],
   "source": [
    "sh_int_output"
   ]
  },
  {
   "cell_type": "code",
   "execution_count": 140,
   "metadata": {},
   "outputs": [
    {
     "data": {
      "text/plain": [
       "<_sre.SRE_Match object; span=(111, 130), match='Internet address is'>"
      ]
     },
     "execution_count": 140,
     "metadata": {},
     "output_type": "execute_result"
    }
   ],
   "source": [
    "re.search(r'Internet address is+',sh_int_output)"
   ]
  },
  {
   "cell_type": "code",
   "execution_count": 9,
   "metadata": {},
   "outputs": [
    {
     "data": {
      "text/plain": [
       "list"
      ]
     },
     "execution_count": 9,
     "metadata": {},
     "output_type": "execute_result"
    }
   ],
   "source": [
    "type(sh_int_output.split('\\n'))"
   ]
  },
  {
   "cell_type": "code",
   "execution_count": 11,
   "metadata": {},
   "outputs": [
    {
     "data": {
      "text/plain": [
       "['Ethernet 0 is up, line protocol is up',\n",
       " 'Hardware is MCI Ethernet, address is 0000.0c00.750c (bia 0000.0c00.750c)',\n",
       " 'Internet address is 131.108.28.8, subnet mask is 255.255.255.0',\n",
       " 'MTU 1500 bytes, BW 10000 Kbit, DLY 100000 usec, rely 255/255, load 1/255',\n",
       " 'Encapsulation ARPA, loopback not set, keepalive set (10 sec)',\n",
       " 'ARP type: ARPA, ARP Timeout 4:00:00',\n",
       " 'Last input 0:00:00, output 0:00:00, output hang never',\n",
       " 'Last clearing of \"show interface\" counters 0:00:00',\n",
       " 'Output queue 0/40, 0 drops; input queue 0/75, 0 drops',\n",
       " 'Five minute input rate 0 bits/sec, 0 packets/sec',\n",
       " 'Five minute output rate 2000 bits/sec, 4 packets/sec',\n",
       " '1127576 packets input, 447251251 bytes, 0 no buffer',\n",
       " 'Received 354125 broadcasts, 0 runts, 0 giants, 57186* throttles',\n",
       " '0 input errors, 0 CRC, 0 frame, 0 overrun, 0 ignored, 0 abort',\n",
       " '5332142 packets output, 496316039 bytes, 0 underruns',\n",
       " '0 output errors, 432 collisions, 0 interface resets, 0 restarts']"
      ]
     },
     "execution_count": 11,
     "metadata": {},
     "output_type": "execute_result"
    }
   ],
   "source": [
    "sh_int_output.split('\\n')"
   ]
  },
  {
   "cell_type": "code",
   "execution_count": 13,
   "metadata": {},
   "outputs": [
    {
     "data": {
      "text/plain": [
       "['Ethernet 0 is up, line protocol is up',\n",
       " 'Hardware is MCI Ethernet, address is 0000.0c00.750c (bia 0000.0c00.750c)',\n",
       " 'Internet address is 131.108.28.8, subnet mask is 255.255.255.0',\n",
       " 'MTU 1500 bytes, BW 10000 Kbit, DLY 100000 usec, rely 255/255, load 1/255',\n",
       " 'Encapsulation ARPA, loopback not set, keepalive set (10 sec)',\n",
       " 'ARP type: ARPA, ARP Timeout 4:00:00',\n",
       " 'Last input 0:00:00, output 0:00:00, output hang never',\n",
       " 'Last clearing of \"show interface\" counters 0:00:00',\n",
       " 'Output queue 0/40, 0 drops; input queue 0/75, 0 drops',\n",
       " 'Five minute input rate 0 bits/sec, 0 packets/sec',\n",
       " 'Five minute output rate 2000 bits/sec, 4 packets/sec',\n",
       " '1127576 packets input, 447251251 bytes, 0 no buffer',\n",
       " 'Received 354125 broadcasts, 0 runts, 0 giants, 57186* throttles',\n",
       " '0 input errors, 0 CRC, 0 frame, 0 overrun, 0 ignored, 0 abort',\n",
       " '5332142 packets output, 496316039 bytes, 0 underruns',\n",
       " '0 output errors, 432 collisions, 0 interface resets, 0 restarts']"
      ]
     },
     "execution_count": 13,
     "metadata": {},
     "output_type": "execute_result"
    }
   ],
   "source": [
    "sh_int_output.splitlines()"
   ]
  },
  {
   "cell_type": "code",
   "execution_count": 16,
   "metadata": {},
   "outputs": [],
   "source": [
    "sh_int_output_splitted= sh_int_output.splitlines()"
   ]
  },
  {
   "cell_type": "code",
   "execution_count": 23,
   "metadata": {},
   "outputs": [],
   "source": [
    "ip_line=sh_int_output_splitted[2]"
   ]
  },
  {
   "cell_type": "code",
   "execution_count": 25,
   "metadata": {},
   "outputs": [
    {
     "data": {
      "text/plain": [
       "'Internet address is 131.108.28.8, subnet mask is 255.255.255.0'"
      ]
     },
     "execution_count": 25,
     "metadata": {},
     "output_type": "execute_result"
    }
   ],
   "source": [
    "ip_line"
   ]
  },
  {
   "cell_type": "code",
   "execution_count": 27,
   "metadata": {},
   "outputs": [
    {
     "data": {
      "text/plain": [
       "['Internet',\n",
       " 'address',\n",
       " 'is',\n",
       " '131.108.28.8,',\n",
       " 'subnet',\n",
       " 'mask',\n",
       " 'is',\n",
       " '255.255.255.0']"
      ]
     },
     "execution_count": 27,
     "metadata": {},
     "output_type": "execute_result"
    }
   ],
   "source": [
    "ip_line.split()"
   ]
  },
  {
   "cell_type": "code",
   "execution_count": 32,
   "metadata": {},
   "outputs": [],
   "source": [
    "IP=ip_line.split()"
   ]
  },
  {
   "cell_type": "code",
   "execution_count": 34,
   "metadata": {},
   "outputs": [],
   "source": [
    "IP_Address=IP[3]"
   ]
  },
  {
   "cell_type": "code",
   "execution_count": 36,
   "metadata": {},
   "outputs": [
    {
     "data": {
      "text/plain": [
       "'131.108.28.8,'"
      ]
     },
     "execution_count": 36,
     "metadata": {},
     "output_type": "execute_result"
    }
   ],
   "source": [
    "IP_Address"
   ]
  },
  {
   "cell_type": "code",
   "execution_count": 38,
   "metadata": {},
   "outputs": [],
   "source": [
    "Interface_Details=sh_int_output_splitted[0]"
   ]
  },
  {
   "cell_type": "code",
   "execution_count": 40,
   "metadata": {},
   "outputs": [
    {
     "data": {
      "text/plain": [
       "'Ethernet 0 is up, line protocol is up'"
      ]
     },
     "execution_count": 40,
     "metadata": {},
     "output_type": "execute_result"
    }
   ],
   "source": [
    "Interface_Details"
   ]
  },
  {
   "cell_type": "code",
   "execution_count": 44,
   "metadata": {},
   "outputs": [
    {
     "data": {
      "text/plain": [
       "['Ethernet', '0']"
      ]
     },
     "execution_count": 44,
     "metadata": {},
     "output_type": "execute_result"
    }
   ],
   "source": [
    "Interface_Details.split()[:2]"
   ]
  },
  {
   "cell_type": "code",
   "execution_count": 49,
   "metadata": {},
   "outputs": [
    {
     "data": {
      "text/plain": [
       "'0000.0c00.750c'"
      ]
     },
     "execution_count": 49,
     "metadata": {},
     "output_type": "execute_result"
    }
   ],
   "source": [
    "sh_int_output.splitlines()[1].split()[6]"
   ]
  },
  {
   "cell_type": "code",
   "execution_count": 56,
   "metadata": {},
   "outputs": [
    {
     "data": {
      "text/plain": [
       "'432'"
      ]
     },
     "execution_count": 56,
     "metadata": {},
     "output_type": "execute_result"
    }
   ],
   "source": [
    "sh_int_output.splitlines()[15].split()[3]"
   ]
  },
  {
   "cell_type": "code",
   "execution_count": 59,
   "metadata": {},
   "outputs": [
    {
     "data": {
      "text/plain": [
       "['10000', 'Kbit,']"
      ]
     },
     "execution_count": 59,
     "metadata": {},
     "output_type": "execute_result"
    }
   ],
   "source": [
    "sh_int_output.splitlines()[3].split()[4:6]"
   ]
  },
  {
   "cell_type": "code",
   "execution_count": 73,
   "metadata": {},
   "outputs": [],
   "source": [
    "Bandwidth=sh_int_output.splitlines()[3].split()[4:6]"
   ]
  },
  {
   "cell_type": "code",
   "execution_count": 78,
   "metadata": {},
   "outputs": [],
   "source": [
    "Bandwidth=Bandwidth[0] + ' ' + Bandwidth[1]"
   ]
  },
  {
   "cell_type": "code",
   "execution_count": 79,
   "metadata": {},
   "outputs": [
    {
     "name": "stdout",
     "output_type": "stream",
     "text": [
      "This interface is having Bandwith 10000 Kbit,\n"
     ]
    }
   ],
   "source": [
    "print('This interface is having Bandwith',Bandwidth)"
   ]
  },
  {
   "cell_type": "code",
   "execution_count": 83,
   "metadata": {},
   "outputs": [],
   "source": [
    "Bandwidth_Details='This interface is having Bandwith',Bandwidth"
   ]
  },
  {
   "cell_type": "code",
   "execution_count": 85,
   "metadata": {},
   "outputs": [
    {
     "data": {
      "text/plain": [
       "('This interface is having Bandwith', '10000 Kbit,')"
      ]
     },
     "execution_count": 85,
     "metadata": {},
     "output_type": "execute_result"
    }
   ],
   "source": [
    "Bandwidth_Details"
   ]
  },
  {
   "cell_type": "code",
   "execution_count": 124,
   "metadata": {},
   "outputs": [],
   "source": [
    "ip=sh_int_output.splitlines()[2].split()[3]"
   ]
  },
  {
   "cell_type": "code",
   "execution_count": 126,
   "metadata": {},
   "outputs": [],
   "source": [
    "ip=ip[:-1]"
   ]
  },
  {
   "cell_type": "code",
   "execution_count": 111,
   "metadata": {},
   "outputs": [],
   "source": [
    "mac=sh_int_output.splitlines()[1].split()[6]"
   ]
  },
  {
   "cell_type": "code",
   "execution_count": 106,
   "metadata": {},
   "outputs": [
    {
     "name": "stdout",
     "output_type": "stream",
     "text": [
      "My IP Address is 131.108.28.8, My mac address is 0000.0c00.750c. My Bandwidth is 10000 Kbit,\n"
     ]
    }
   ],
   "source": [
    "print('My IP Address is ' + sh_int_output.splitlines()[2].split()[3]+ ' My mac address is '+ sh_int_output.splitlines()[1].split()[6] + '. My Bandwidth is '+sh_int_output.splitlines()[3].split()[4] + ' ' + sh_int_output.splitlines()[3].split()[5])"
   ]
  },
  {
   "cell_type": "code",
   "execution_count": 129,
   "metadata": {},
   "outputs": [],
   "source": [
    "summary=f'My IP addess is {ip}, my MAC address is {mac}.'"
   ]
  },
  {
   "cell_type": "code",
   "execution_count": 130,
   "metadata": {},
   "outputs": [
    {
     "name": "stdout",
     "output_type": "stream",
     "text": [
      "My IP addess is 131.108.28.8, my MAC address is 0000.0c00.750c.\n"
     ]
    }
   ],
   "source": [
    "print(summary)"
   ]
  }
 ],
 "metadata": {
  "kernelspec": {
   "display_name": "Python 3",
   "language": "python",
   "name": "python3"
  },
  "language_info": {
   "codemirror_mode": {
    "name": "ipython",
    "version": 3
   },
   "file_extension": ".py",
   "mimetype": "text/x-python",
   "name": "python",
   "nbconvert_exporter": "python",
   "pygments_lexer": "ipython3",
   "version": "3.6.0"
  }
 },
 "nbformat": 4,
 "nbformat_minor": 2
}
