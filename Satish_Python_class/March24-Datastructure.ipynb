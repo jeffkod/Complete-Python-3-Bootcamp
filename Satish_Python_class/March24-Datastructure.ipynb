{
 "cells": [
  {
   "cell_type": "code",
   "execution_count": 158,
   "metadata": {},
   "outputs": [
    {
     "data": {
      "text/plain": [
       "str"
      ]
     },
     "execution_count": 158,
     "metadata": {},
     "output_type": "execute_result"
    }
   ],
   "source": [
    "rtr_input=\"\"\"Ethernet 0 is up, line protocol is up\n",
    "Hardware is MCI Ethernet, address is 0000.0c00.750c (bia 0000.0c00.750c)\n",
    "Internet address is 131.108.28.8, subnet mask is 255.255.255.0\n",
    "MTU 1500 bytes, BW 10000 Kbit, DLY 100000 usec, rely 255/255, load 1/255\n",
    "Encapsulation ARPA, loopback not set, keepalive set (10 sec)\n",
    "ARP type: ARPA, ARP Timeout 4:00:00\n",
    "Last input 0:00:00, output 0:00:00, output hang never\n",
    "Last clearing of \"show interface\" counters 0:00:00\n",
    "Output queue 0/40, 0 drops; input queue 0/75, 0 drops\n",
    "Five minute input rate 0 bits/sec, 0 packets/sec\n",
    "Five minute output rate 2000 bits/sec, 4 packets/sec\n",
    "1127576 packets input, 447251251 bytes, 0 no buffer\n",
    "Received 354125 broadcasts, 0 runts, 0 giants, 57186* throttles\n",
    "0 input errors, 23432 CRC, 0 frame, 0 overrun, 0 ignored, 0 abort\n",
    "5332142 packets output, 496316039 bytes, 0 underruns\n",
    "0 output errors, 432 collisions, 0 interface resets, 0 restarts\"\"\"\n",
    "type(rtr_input)"
   ]
  },
  {
   "cell_type": "code",
   "execution_count": 44,
   "metadata": {},
   "outputs": [
    {
     "data": {
      "text/plain": [
       "('MAC Address=', '0000.0c00.750c', 'IP Address=', '131.108.28.8,')"
      ]
     },
     "execution_count": 44,
     "metadata": {},
     "output_type": "execute_result"
    }
   ],
   "source": [
    "ip_mac='MAC Address=',rtr_input.split('\\n')[1].split()[6],'IP Address=',rtr_input.split('\\n')[2].split()[3]\n",
    "ip_mac"
   ]
  },
  {
   "cell_type": "code",
   "execution_count": 45,
   "metadata": {},
   "outputs": [
    {
     "data": {
      "text/plain": [
       "tuple"
      ]
     },
     "execution_count": 45,
     "metadata": {},
     "output_type": "execute_result"
    }
   ],
   "source": [
    "type(ip_mac)"
   ]
  },
  {
   "cell_type": "code",
   "execution_count": 46,
   "metadata": {},
   "outputs": [
    {
     "name": "stdout",
     "output_type": "stream",
     "text": [
      "CRC = 23432 Throttles= 57186*\n"
     ]
    }
   ],
   "source": [
    "print('CRC =', rtr_input.split('\\n')[13].split()[3],'Throttles=',rtr_input.split('\\n')[12].split()[7])"
   ]
  },
  {
   "cell_type": "code",
   "execution_count": 157,
   "metadata": {},
   "outputs": [
    {
     "data": {
      "text/plain": [
       "['131.108.28.8', '0000.0c00.750']"
      ]
     },
     "execution_count": 157,
     "metadata": {},
     "output_type": "execute_result"
    }
   ],
   "source": [
    "mac_addr=rtr_input.split('\\n')[1].split()[6][:-1]\n",
    "ip_add=rtr_input.split('\\n')[2].split()[3] [:-1]\n",
    "rtr_details_list=[ip_add,mac_addr]\n",
    "rtr_details_list\n"
   ]
  },
  {
   "cell_type": "code",
   "execution_count": 86,
   "metadata": {},
   "outputs": [
    {
     "data": {
      "text/plain": [
       "['131.108.28.8', '0000.0c00.750']"
      ]
     },
     "execution_count": 86,
     "metadata": {},
     "output_type": "execute_result"
    }
   ],
   "source": [
    "\"\"\"convert to list\"\"\"\n",
    "rtr_details_list2=list()\n",
    "rtr_details_list2.append(ip_add)\n",
    "rtr_details_list2.append(mac_addr)\n",
    "rtr_details_list2"
   ]
  },
  {
   "cell_type": "code",
   "execution_count": 120,
   "metadata": {},
   "outputs": [
    {
     "data": {
      "text/plain": [
       "'131.108.28.8'"
      ]
     },
     "execution_count": 120,
     "metadata": {},
     "output_type": "execute_result"
    }
   ],
   "source": [
    "\"\"\"Convert to dist\"\"\"\n",
    "rtr_details_list_dict={'ip_addr':ip_add,'mac_addr':mac_addr}\n",
    "rtr_details_list_dict['ip_addr']"
   ]
  },
  {
   "cell_type": "code",
   "execution_count": 124,
   "metadata": {},
   "outputs": [
    {
     "name": "stdout",
     "output_type": "stream",
     "text": [
      "hostname=blr\n"
     ]
    }
   ],
   "source": [
    "hostname=input(\"hostname=\")"
   ]
  },
  {
   "cell_type": "code",
   "execution_count": 134,
   "metadata": {},
   "outputs": [
    {
     "name": "stdout",
     "output_type": "stream",
     "text": [
      "Enter the hostnamehyd\n"
     ]
    }
   ],
   "source": [
    "rtr_details_list_dict.update({'hostname':input(\"Enter the hostname\")})"
   ]
  },
  {
   "cell_type": "code",
   "execution_count": 135,
   "metadata": {},
   "outputs": [
    {
     "data": {
      "text/plain": [
       "{'hostname': 'hyd',\n",
       " 'ip_addr': '131.108.28.8',\n",
       " 'ip_address': '131.108.28.8',\n",
       " 'mac_addr': '0000.0c00.750'}"
      ]
     },
     "execution_count": 135,
     "metadata": {},
     "output_type": "execute_result"
    }
   ],
   "source": [
    "rtr_details_list_dict"
   ]
  },
  {
   "cell_type": "code",
   "execution_count": 142,
   "metadata": {},
   "outputs": [
    {
     "name": "stdout",
     "output_type": "stream",
     "text": [
      "new ip address4.4.4.4\n",
      "new ip second2.2.2.2\n"
     ]
    },
    {
     "data": {
      "text/plain": [
       "{'hostname': 'hyd',\n",
       " 'ip_add': '2.2.2.2',\n",
       " 'ip_addr': '2.2.2.2',\n",
       " 'ip_address': '4.4.4.4',\n",
       " 'mac_addr': '0000.0c00.750'}"
      ]
     },
     "execution_count": 142,
     "metadata": {},
     "output_type": "execute_result"
    }
   ],
   "source": [
    "rtr_details_list_dict.update({'ip_address ':input(\"new ip address\")})\n",
    "rtr_details_list_dict.update({'ip_addr ':input(\"new ip second\")})\n",
    "rtr_details_list_dict"
   ]
  },
  {
   "cell_type": "code",
   "execution_count": 161,
   "metadata": {},
   "outputs": [
    {
     "data": {
      "text/plain": [
       "('131.108.28.8', '0000.0c00.750')"
      ]
     },
     "execution_count": 161,
     "metadata": {},
     "output_type": "execute_result"
    }
   ],
   "source": [
    "rtr_details_tuple = (ip_add,mac_addr)\n",
    "rtr_details_tuple"
   ]
  },
  {
   "cell_type": "code",
   "execution_count": 152,
   "metadata": {},
   "outputs": [
    {
     "ename": "TypeError",
     "evalue": "'int' object is not callable",
     "output_type": "error",
     "traceback": [
      "\u001b[1;31m---------------------------------------------------------------------------\u001b[0m",
      "\u001b[1;31mTypeError\u001b[0m                                 Traceback (most recent call last)",
      "\u001b[1;32m<ipython-input-152-93abbadbc14f>\u001b[0m in \u001b[0;36m<module>\u001b[1;34m()\u001b[0m\n\u001b[1;32m----> 1\u001b[1;33m \u001b[0mrtr_details_tuple2\u001b[0m\u001b[1;33m=\u001b[0m\u001b[0mrtr_details_tuple\u001b[0m\u001b[1;33m(\u001b[0m\u001b[0mip_add\u001b[0m\u001b[1;33m)\u001b[0m\u001b[1;33m\u001b[0m\u001b[0m\n\u001b[0m",
      "\u001b[1;31mTypeError\u001b[0m: 'int' object is not callable"
     ]
    }
   ],
   "source": []
  },
  {
   "cell_type": "code",
   "execution_count": null,
   "metadata": {},
   "outputs": [],
   "source": []
  }
 ],
 "metadata": {
  "kernelspec": {
   "display_name": "Python 3",
   "language": "python",
   "name": "python3"
  },
  "language_info": {
   "codemirror_mode": {
    "name": "ipython",
    "version": 3
   },
   "file_extension": ".py",
   "mimetype": "text/x-python",
   "name": "python",
   "nbconvert_exporter": "python",
   "pygments_lexer": "ipython3",
   "version": "3.6.4"
  }
 },
 "nbformat": 4,
 "nbformat_minor": 2
}
