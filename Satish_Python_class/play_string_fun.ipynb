{
 "cells": [
  {
   "cell_type": "code",
   "execution_count": 1,
   "metadata": {},
   "outputs": [],
   "source": [
    "rtr_input=\"\"\"Ethernet 0 is up, line protocol is up\n",
    "Hardware is MCI Ethernet, address is 0000.0c00.750c (bia 0000.0c00.750c)\n",
    "Internet address is 131.108.28.8, subnet mask is 255.255.255.0\n",
    "MTU 1500 bytes, BW 10000 Kbit, DLY 100000 usec, rely 255/255, load 1/255\n",
    "Encapsulation ARPA, loopback not set, keepalive set (10 sec)\n",
    "ARP type: ARPA, ARP Timeout 4:00:00\n",
    "Last input 0:00:00, output 0:00:00, output hang never\n",
    "Last clearing of \"show interface\" counters 0:00:00\n",
    "Output queue 0/40, 0 drops; input queue 0/75, 0 drops\n",
    "Five minute input rate 0 bits/sec, 0 packets/sec\n",
    "Five minute output rate 2000 bits/sec, 4 packets/sec\n",
    "1127576 packets input, 447251251 bytes, 0 no buffer\n",
    "Received 354125 broadcasts, 0 runts, 0 giants, 57186* throttles\n",
    "0 input errors, 0 CRC, 0 frame, 0 overrun, 0 ignored, 0 abort\n",
    "5332142 packets output, 496316039 bytes, 0 underruns\n",
    "0 output errors, 432 collisions, 0 interface resets, 0 restarts\"\"\"\n"
   ]
  },
  {
   "cell_type": "code",
   "execution_count": 58,
   "metadata": {},
   "outputs": [
    {
     "data": {
      "text/plain": [
       "'131.108.28.8,'"
      ]
     },
     "execution_count": 58,
     "metadata": {},
     "output_type": "execute_result"
    }
   ],
   "source": [
    "myip = rtr_input.split('\\n')[2].split()[3]\n",
    "myip"
   ]
  },
  {
   "cell_type": "code",
   "execution_count": 60,
   "metadata": {},
   "outputs": [
    {
     "data": {
      "text/plain": [
       "'0000.0c00.750c'"
      ]
     },
     "execution_count": 60,
     "metadata": {},
     "output_type": "execute_result"
    }
   ],
   "source": [
    "mymac = rtr_input.split('\\n')[1].split()[6]\n",
    "mymac"
   ]
  },
  {
   "cell_type": "code",
   "execution_count": 61,
   "metadata": {},
   "outputs": [
    {
     "data": {
      "text/plain": [
       "'432'"
      ]
     },
     "execution_count": 61,
     "metadata": {},
     "output_type": "execute_result"
    }
   ],
   "source": [
    "mycol = rtr_input.split('\\n')[-1].split()[3]\n",
    "mycol"
   ]
  },
  {
   "cell_type": "code",
   "execution_count": 33,
   "metadata": {},
   "outputs": [
    {
     "name": "stdout",
     "output_type": "stream",
     "text": [
      "Collision= 432 IP Address 131.108.28.8,\n"
     ]
    }
   ],
   "source": [
    "print('Collision=',rtr_input.split('\\n')[-1].split()[3],'IP Address',rtr_input.split('\\n')[2].split()[3])"
   ]
  },
  {
   "cell_type": "code",
   "execution_count": 64,
   "metadata": {},
   "outputs": [
    {
     "data": {
      "text/plain": [
       "['10000', 'Kbit,']"
      ]
     },
     "execution_count": 64,
     "metadata": {},
     "output_type": "execute_result"
    }
   ],
   "source": [
    "mybw =rtr_input.split('\\n')[3].split()[4:6]\n",
    "mybw"
   ]
  },
  {
   "cell_type": "code",
   "execution_count": 45,
   "metadata": {},
   "outputs": [],
   "source": [
    "new_ls = rtr_input.split('\\n')[3].split()[4:6]"
   ]
  },
  {
   "cell_type": "code",
   "execution_count": 46,
   "metadata": {},
   "outputs": [
    {
     "data": {
      "text/plain": [
       "list"
      ]
     },
     "execution_count": 46,
     "metadata": {},
     "output_type": "execute_result"
    }
   ],
   "source": [
    "type(new_ls)"
   ]
  },
  {
   "cell_type": "code",
   "execution_count": 54,
   "metadata": {},
   "outputs": [],
   "source": [
    "my_bw ='MY Bandwdith is ' + new_ls[0] + \" \" + new_ls[1]"
   ]
  },
  {
   "cell_type": "code",
   "execution_count": 55,
   "metadata": {},
   "outputs": [
    {
     "data": {
      "text/plain": [
       "'MY Bandwdith is 10000 Kbit,'"
      ]
     },
     "execution_count": 55,
     "metadata": {},
     "output_type": "execute_result"
    }
   ],
   "source": [
    "my_bw"
   ]
  },
  {
   "cell_type": "code",
   "execution_count": 78,
   "metadata": {},
   "outputs": [
    {
     "data": {
      "text/plain": [
       "'MY IPAddress is 131.108.28.8, . MY MAC 0000.0c00.750c . MY Bandwdith is 10000 Kbit,'"
      ]
     },
     "execution_count": 78,
     "metadata": {},
     "output_type": "execute_result"
    }
   ],
   "source": [
    "summary =('MY IPAddress is '+myip+' . '+'MY MAC ' + mymac + ' . ' +  my_bw)\n",
    "summary"
   ]
  },
  {
   "cell_type": "code",
   "execution_count": 76,
   "metadata": {},
   "outputs": [
    {
     "name": "stdout",
     "output_type": "stream",
     "text": [
      "Help on built-in function center:\n",
      "\n",
      "center(...) method of builtins.str instance\n",
      "    S.center(width[, fillchar]) -> str\n",
      "    \n",
      "    Return S centered in a string of length width. Padding is\n",
      "    done using the specified fill character (default is a space)\n",
      "\n"
     ]
    }
   ],
   "source": [
    "help(rtr_input.center)"
   ]
  },
  {
   "cell_type": "code",
   "execution_count": 89,
   "metadata": {},
   "outputs": [
    {
     "data": {
      "text/plain": [
       "'131.108.28.8, 0000.0c00.750c'"
      ]
     },
     "execution_count": 89,
     "metadata": {},
     "output_type": "execute_result"
    }
   ],
   "source": [
    "f'{myip} {mymac}'\n"
   ]
  },
  {
   "cell_type": "code",
   "execution_count": null,
   "metadata": {},
   "outputs": [],
   "source": []
  }
 ],
 "metadata": {
  "kernelspec": {
   "display_name": "Python 3",
   "language": "python",
   "name": "python3"
  },
  "language_info": {
   "codemirror_mode": {
    "name": "ipython",
    "version": 3
   },
   "file_extension": ".py",
   "mimetype": "text/x-python",
   "name": "python",
   "nbconvert_exporter": "python",
   "pygments_lexer": "ipython3",
   "version": "3.6.4"
  }
 },
 "nbformat": 4,
 "nbformat_minor": 2
}
