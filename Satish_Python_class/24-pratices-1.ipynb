{
 "cells": [
  {
   "cell_type": "markdown",
   "metadata": {},
   "source": [
    "# Markdown\n",
    "First excise"
   ]
  },
  {
   "cell_type": "code",
   "execution_count": 19,
   "metadata": {},
   "outputs": [],
   "source": [
    "sh_int_op=\"\"\"Ethernet 0 is up, line protocol is up\n",
    "Hardware is MCI Ethernet, address is 0000.0c00.750c (bia 0000.0c00.750c)\n",
    "Internet address is 131.108.28.8, subnet mask is 255.255.255.0\n",
    "MTU 1500 bytes, BW 10000 Kbit, DLY 100000 usec, rely 255/255, load 1/255\n",
    "Encapsulation ARPA, loopback not set, keepalive set (10 sec)\n",
    "ARP type: ARPA, ARP Timeout 4:00:00\n",
    "Last input 0:00:00, output 0:00:00, output hang never\n",
    "Last clearing of \"show interface\" counters 0:00:00\n",
    "Output queue 0/40, 0 drops; input queue 0/75, 0 drops\n",
    "Five minute input rate 0 bits/sec, 0 packets/sec\n",
    "Five minute output rate 2000 bits/sec, 4 packets/sec\n",
    "1127576 packets input, 447251251 bytes, 0 no buffer\n",
    "Received 354125 broadcasts, 0 runts, 0 giants, 57186* throttles\n",
    "0 input errors, 0 CRC, 0 frame, 0 overrun, 0 ignored, 0 abort\n",
    "5332142 packets output, 496316039 bytes, 0 underruns\n",
    "0 output errors, 432 collisions, 0 interface resets, 0 restarts\"\"\""
   ]
  },
  {
   "cell_type": "code",
   "execution_count": 20,
   "metadata": {},
   "outputs": [
    {
     "data": {
      "text/plain": [
       "'Ethernet 0 is up, line protocol is up\\nHardware is MCI Ethernet, address is 0000.0c00.750c (bia 0000.0c00.750c)\\nInternet address is 131.108.28.8, subnet mask is 255.255.255.0\\nMTU 1500 bytes, BW 10000 Kbit, DLY 100000 usec, rely 255/255, load 1/255\\nEncapsulation ARPA, loopback not set, keepalive set (10 sec)\\nARP type: ARPA, ARP Timeout 4:00:00\\nLast input 0:00:00, output 0:00:00, output hang never\\nLast clearing of \"show interface\" counters 0:00:00\\nOutput queue 0/40, 0 drops; input queue 0/75, 0 drops\\nFive minute input rate 0 bits/sec, 0 packets/sec\\nFive minute output rate 2000 bits/sec, 4 packets/sec\\n1127576 packets input, 447251251 bytes, 0 no buffer\\nReceived 354125 broadcasts, 0 runts, 0 giants, 57186* throttles\\n0 input errors, 0 CRC, 0 frame, 0 overrun, 0 ignored, 0 abort\\n5332142 packets output, 496316039 bytes, 0 underruns\\n0 output errors, 432 collisions, 0 interface resets, 0 restarts'"
      ]
     },
     "execution_count": 20,
     "metadata": {},
     "output_type": "execute_result"
    }
   ],
   "source": [
    "sh_int_op"
   ]
  },
  {
   "cell_type": "code",
   "execution_count": 21,
   "metadata": {
    "scrolled": true
   },
   "outputs": [
    {
     "data": {
      "text/plain": [
       "str"
      ]
     },
     "execution_count": 21,
     "metadata": {},
     "output_type": "execute_result"
    }
   ],
   "source": [
    "type(sh_int_op)"
   ]
  },
  {
   "cell_type": "code",
   "execution_count": 26,
   "metadata": {},
   "outputs": [
    {
     "data": {
      "text/plain": [
       "['Ethernet 0 is up, line protocol is up',\n",
       " 'Hardware is MCI Ethernet, address is 0000.0c00.750c (bia 0000.0c00.750c)',\n",
       " 'Internet address is 131.108.28.8, subnet mask is 255.255.255.0',\n",
       " 'MTU 1500 bytes, BW 10000 Kbit, DLY 100000 usec, rely 255/255, load 1/255',\n",
       " 'Encapsulation ARPA, loopback not set, keepalive set (10 sec)',\n",
       " 'ARP type: ARPA, ARP Timeout 4:00:00',\n",
       " 'Last input 0:00:00, output 0:00:00, output hang never',\n",
       " 'Last clearing of \"show interface\" counters 0:00:00',\n",
       " 'Output queue 0/40, 0 drops; input queue 0/75, 0 drops',\n",
       " 'Five minute input rate 0 bits/sec, 0 packets/sec',\n",
       " 'Five minute output rate 2000 bits/sec, 4 packets/sec',\n",
       " '1127576 packets input, 447251251 bytes, 0 no buffer',\n",
       " 'Received 354125 broadcasts, 0 runts, 0 giants, 57186* throttles',\n",
       " '0 input errors, 0 CRC, 0 frame, 0 overrun, 0 ignored, 0 abort',\n",
       " '5332142 packets output, 496316039 bytes, 0 underruns',\n",
       " '0 output errors, 432 collisions, 0 interface resets, 0 restarts']"
      ]
     },
     "execution_count": 26,
     "metadata": {},
     "output_type": "execute_result"
    }
   ],
   "source": [
    "# Convert string to list and split by nextline\n",
    "rtr_op=sh_int_op.split('\\n')\n",
    "rtr_op"
   ]
  },
  {
   "cell_type": "code",
   "execution_count": 27,
   "metadata": {},
   "outputs": [
    {
     "data": {
      "text/plain": [
       "['Ethernet 0 is up, line protocol is up',\n",
       " 'Hardware is MCI Ethernet, address is 0000.0c00.750c (bia 0000.0c00.750c)',\n",
       " 'Internet address is 131.108.28.8, subnet mask is 255.255.255.0',\n",
       " 'MTU 1500 bytes, BW 10000 Kbit, DLY 100000 usec, rely 255/255, load 1/255',\n",
       " 'Encapsulation ARPA, loopback not set, keepalive set (10 sec)',\n",
       " 'ARP type: ARPA, ARP Timeout 4:00:00',\n",
       " 'Last input 0:00:00, output 0:00:00, output hang never',\n",
       " 'Last clearing of \"show interface\" counters 0:00:00',\n",
       " 'Output queue 0/40, 0 drops; input queue 0/75, 0 drops',\n",
       " 'Five minute input rate 0 bits/sec, 0 packets/sec',\n",
       " 'Five minute output rate 2000 bits/sec, 4 packets/sec',\n",
       " '1127576 packets input, 447251251 bytes, 0 no buffer',\n",
       " 'Received 354125 broadcasts, 0 runts, 0 giants, 57186* throttles',\n",
       " '0 input errors, 0 CRC, 0 frame, 0 overrun, 0 ignored, 0 abort',\n",
       " '5332142 packets output, 496316039 bytes, 0 underruns',\n",
       " '0 output errors, 432 collisions, 0 interface resets, 0 restarts']"
      ]
     },
     "execution_count": 27,
     "metadata": {},
     "output_type": "execute_result"
    }
   ],
   "source": [
    "#splitting line and assigning variable\n",
    "rtr_op1=sh_int_op.splitlines()\n",
    "rtr_op1"
   ]
  },
  {
   "cell_type": "code",
   "execution_count": 46,
   "metadata": {},
   "outputs": [
    {
     "name": "stdout",
     "output_type": "stream",
     "text": [
      "<class 'list'>\n"
     ]
    },
    {
     "data": {
      "text/plain": [
       "['Ethernet 0 is up, line protocol is up',\n",
       " 'Hardware is MCI Ethernet, address is 0000.0c00.750c (bia 0000.0c00.750c)',\n",
       " 'Internet address is 131.108.28.8, subnet mask is 255.255.255.0',\n",
       " 'MTU 1500 bytes, BW 10000 Kbit, DLY 100000 usec, rely 255/255, load 1/255',\n",
       " 'Encapsulation ARPA, loopback not set, keepalive set (10 sec)',\n",
       " 'ARP type: ARPA, ARP Timeout 4:00:00',\n",
       " 'Last input 0:00:00, output 0:00:00, output hang never',\n",
       " 'Last clearing of \"show interface\" counters 0:00:00',\n",
       " 'Output queue 0/40, 0 drops; input queue 0/75, 0 drops',\n",
       " 'Five minute input rate 0 bits/sec, 0 packets/sec',\n",
       " 'Five minute output rate 2000 bits/sec, 4 packets/sec',\n",
       " '1127576 packets input, 447251251 bytes, 0 no buffer',\n",
       " 'Received 354125 broadcasts, 0 runts, 0 giants, 57186* throttles',\n",
       " '0 input errors, 0 CRC, 0 frame, 0 overrun, 0 ignored, 0 abort',\n",
       " '5332142 packets output, 496316039 bytes, 0 underruns',\n",
       " '0 output errors, 432 collisions, 0 interface resets, 0 restarts']"
      ]
     },
     "execution_count": 46,
     "metadata": {},
     "output_type": "execute_result"
    }
   ],
   "source": [
    "rtr_op2=sh_int_op.splitlines()\n",
    "print(type(rtr_op2))\n",
    "rtr_op2"
   ]
  },
  {
   "cell_type": "code",
   "execution_count": 89,
   "metadata": {},
   "outputs": [
    {
     "name": "stdout",
     "output_type": "stream",
     "text": [
      "('ip_addr', '131.108.28.8,')\n"
     ]
    },
    {
     "data": {
      "text/plain": [
       "tuple"
      ]
     },
     "execution_count": 89,
     "metadata": {},
     "output_type": "execute_result"
    }
   ],
   "source": [
    "ip_addr='ip_addr',sh_int_op.split('\\n')[2].split()[3]\n",
    "print(ip_addr)\n",
    "type(ip_addr)"
   ]
  },
  {
   "cell_type": "code",
   "execution_count": 55,
   "metadata": {},
   "outputs": [
    {
     "name": "stdout",
     "output_type": "stream",
     "text": [
      "('mac_add', '0000.0c00.750c')\n"
     ]
    },
    {
     "data": {
      "text/plain": [
       "tuple"
      ]
     },
     "execution_count": 55,
     "metadata": {},
     "output_type": "execute_result"
    }
   ],
   "source": [
    "mac_addr='mac_add',sh_int_op.split('\\n')[1].split()[6]\n",
    "print(mac_addr)\n",
    "type(mac_addr)"
   ]
  },
  {
   "cell_type": "code",
   "execution_count": 68,
   "metadata": {},
   "outputs": [
    {
     "name": "stdout",
     "output_type": "stream",
     "text": [
      "131.108.28.8, 0000.0c00.750c\n"
     ]
    },
    {
     "data": {
      "text/plain": [
       "str"
      ]
     },
     "execution_count": 68,
     "metadata": {},
     "output_type": "execute_result"
    }
   ],
   "source": [
    "rtr_detail=list()\n",
    "rtr_detail=ip_addr[-1]+ ' '+ mac_addr[-1]\n",
    "print(rtr_detail)\n",
    "type(rtr_detail)"
   ]
  },
  {
   "cell_type": "code",
   "execution_count": 87,
   "metadata": {},
   "outputs": [
    {
     "name": "stdout",
     "output_type": "stream",
     "text": [
      "('131.108.28.8,', '0000.0c00.750c')\n"
     ]
    },
    {
     "data": {
      "text/plain": [
       "list"
      ]
     },
     "execution_count": 87,
     "metadata": {},
     "output_type": "execute_result"
    }
   ],
   "source": [
    "rtr_detail2=list()\n",
    "rtr_detail2.append(ip_addr)\n",
    "rtr_detail2.append(mac_addr)\n",
    "print(rtr_detail2[0][1:]+rtr_detail2[1][1:])\n",
    "type(rtr_detail2)"
   ]
  },
  {
   "cell_type": "code",
   "execution_count": 90,
   "metadata": {},
   "outputs": [
    {
     "name": "stdout",
     "output_type": "stream",
     "text": [
      "('ip_addr', '131.108.28.8,')\n",
      "('mac_add', '0000.0c00.750c')\n"
     ]
    },
    {
     "data": {
      "text/plain": [
       "tuple"
      ]
     },
     "execution_count": 90,
     "metadata": {},
     "output_type": "execute_result"
    }
   ],
   "source": [
    "print(ip_addr)\n",
    "print(mac_addr)\n",
    "type(mac_addr)"
   ]
  },
  {
   "cell_type": "code",
   "execution_count": 108,
   "metadata": {},
   "outputs": [
    {
     "name": "stdout",
     "output_type": "stream",
     "text": [
      "0000.0c00.750c\n",
      "131.108.28.8,\n",
      "['131.108.28.8,', '0000.0c00.750c']\n"
     ]
    },
    {
     "data": {
      "text/plain": [
       "list"
      ]
     },
     "execution_count": 108,
     "metadata": {},
     "output_type": "execute_result"
    }
   ],
   "source": [
    "ip_addr1=sh_int_op.split('\\n')[2].split()[3]\n",
    "mac_addr1=sh_int_op.split('\\n')[1].split()[6]\n",
    "print(mac_addr1)\n",
    "print(ip_addr1)\n",
    "type(ip_addr1)\n",
    "rtr_detail3=[ip_addr1,mac_addr1]\n",
    "print(rtr_detail3)\n",
    "type(rtr_detail3)"
   ]
  },
  {
   "cell_type": "code",
   "execution_count": 110,
   "metadata": {},
   "outputs": [
    {
     "name": "stdout",
     "output_type": "stream",
     "text": [
      "{'ip address': '131.108.28.8,', 'mac address': '0000.0c00.750c'}\n"
     ]
    },
    {
     "data": {
      "text/plain": [
       "dict"
      ]
     },
     "execution_count": 110,
     "metadata": {},
     "output_type": "execute_result"
    }
   ],
   "source": [
    "#Distonary example\n",
    "rtr_detail4={'ip address':ip_addr1,'mac address':mac_addr1}\n",
    "print(rtr_detail4)\n",
    "type(rtr_detail4)"
   ]
  },
  {
   "cell_type": "code",
   "execution_count": 113,
   "metadata": {},
   "outputs": [
    {
     "ename": "SyntaxError",
     "evalue": "invalid syntax (<ipython-input-113-3dcb7d8ac340>, line 1)",
     "output_type": "error",
     "traceback": [
      "\u001b[1;36m  File \u001b[1;32m\"<ipython-input-113-3dcb7d8ac340>\"\u001b[1;36m, line \u001b[1;32m1\u001b[0m\n\u001b[1;33m    rtr_detail4.update({'hostname'}:input('enter hostname')})\u001b[0m\n\u001b[1;37m                                   ^\u001b[0m\n\u001b[1;31mSyntaxError\u001b[0m\u001b[1;31m:\u001b[0m invalid syntax\n"
     ]
    }
   ],
   "source": [
    "rtr_detail4.update({'hostname'}:input('enter hostname')})"
   ]
  },
  {
   "cell_type": "code",
   "execution_count": null,
   "metadata": {},
   "outputs": [],
   "source": []
  }
 ],
 "metadata": {
  "kernelspec": {
   "display_name": "Python 3",
   "language": "python",
   "name": "python3"
  },
  "language_info": {
   "codemirror_mode": {
    "name": "ipython",
    "version": 3
   },
   "file_extension": ".py",
   "mimetype": "text/x-python",
   "name": "python",
   "nbconvert_exporter": "python",
   "pygments_lexer": "ipython3",
   "version": "3.6.4"
  }
 },
 "nbformat": 4,
 "nbformat_minor": 2
}
