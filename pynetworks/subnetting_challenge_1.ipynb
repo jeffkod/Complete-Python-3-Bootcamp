{
 "cells": [
  {
   "cell_type": "code",
   "execution_count": 10,
   "metadata": {
    "ExecuteTime": {
     "end_time": "2018-03-10T07:04:27.765675Z",
     "start_time": "2018-03-10T07:04:27.747501Z"
    }
   },
   "outputs": [
    {
     "data": {
      "text/plain": [
       "\"\\nSubnetting challene\\nInput a ip addressin IP/MASK fomart and return it's network add and broadcast address\\n\""
      ]
     },
     "execution_count": 10,
     "metadata": {},
     "output_type": "execute_result"
    }
   ],
   "source": [
    "\"\"\"\n",
    "Subnetting challene\n",
    "Input a ip addressin IP/MASK fomart and return it's network add and broadcast address\n",
    "\"\"\""
   ]
  },
  {
   "cell_type": "code",
   "execution_count": 23,
   "metadata": {
    "ExecuteTime": {
     "end_time": "2018-03-10T07:29:38.765110Z",
     "start_time": "2018-03-10T07:29:33.933464Z"
    }
   },
   "outputs": [
    {
     "name": "stdout",
     "output_type": "stream",
     "text": [
      "Enter the ip address : 1.1.1.5\n",
      "Enter the mask in NN format 24\n"
     ]
    }
   ],
   "source": [
    "ip = input(\"Enter the ip address : \")\n",
    "\n"
   ]
  },
  {
   "cell_type": "code",
   "execution_count": 35,
   "metadata": {
    "ExecuteTime": {
     "end_time": "2018-03-10T07:34:56.454006Z",
     "start_time": "2018-03-10T07:34:49.942194Z"
    }
   },
   "outputs": [
    {
     "name": "stdout",
     "output_type": "stream",
     "text": [
      "Input somethingsomething\n"
     ]
    },
    {
     "data": {
      "text/plain": [
       "'something'"
      ]
     },
     "execution_count": 35,
     "metadata": {},
     "output_type": "execute_result"
    }
   ],
   "source": [
    "input(\"Input something\")"
   ]
  },
  {
   "cell_type": "code",
   "execution_count": 25,
   "metadata": {
    "ExecuteTime": {
     "end_time": "2018-03-10T07:30:55.247146Z",
     "start_time": "2018-03-10T07:30:55.209954Z"
    }
   },
   "outputs": [
    {
     "data": {
      "text/plain": [
       "'\\nvalid range :  >=0 and <=32\\n'"
      ]
     },
     "execution_count": 25,
     "metadata": {},
     "output_type": "execute_result"
    }
   ],
   "source": [
    "\"\"\"\n",
    "valid range :  >=0 and <=32\n",
    "\"\"\""
   ]
  },
  {
   "cell_type": "code",
   "execution_count": 46,
   "metadata": {
    "ExecuteTime": {
     "end_time": "2018-03-10T07:39:50.709309Z",
     "start_time": "2018-03-10T07:39:46.976123Z"
    }
   },
   "outputs": [
    {
     "name": "stdout",
     "output_type": "stream",
     "text": [
      "Enter the mask in NN format 24\n",
      "Valid\n"
     ]
    }
   ],
   "source": [
    "mask = int(input(\"Enter the mask in NN format \"))\n",
    "if mask >=0 and mask <=32 :\n",
    "    print(\"Valid\")\n",
    "else:\n",
    "    print(\"Invalid mask\")\n",
    "    mask = int(input(\"Enter the mask in NN format \"))"
   ]
  },
  {
   "cell_type": "code",
   "execution_count": 47,
   "metadata": {
    "ExecuteTime": {
     "end_time": "2018-03-10T07:39:52.291957Z",
     "start_time": "2018-03-10T07:39:52.285875Z"
    }
   },
   "outputs": [
    {
     "data": {
      "text/plain": [
       "8"
      ]
     },
     "execution_count": 47,
     "metadata": {},
     "output_type": "execute_result"
    }
   ],
   "source": [
    "mask_diff = 32 - mask\n",
    "mask_diff"
   ]
  },
  {
   "cell_type": "code",
   "execution_count": 79,
   "metadata": {
    "ExecuteTime": {
     "end_time": "2018-03-10T07:54:55.751393Z",
     "start_time": "2018-03-10T07:54:55.736016Z"
    }
   },
   "outputs": [
    {
     "name": "stdout",
     "output_type": "stream",
     "text": [
      "The network address is  1.1.1.0\n",
      "The broadcast address is  1.1.1.255\n"
     ]
    }
   ],
   "source": [
    "if mask_diff == 8:\n",
    "    #take the last bit ouT AND CHANGE TO 0 AND 255 \n",
    "    octats = ip.split('.')\n",
    "    octats[0]\n",
    "    len(octats)\n",
    "    octats[-1]\n",
    "    new_addr_list = octats\n",
    "    new_addr_list[-1] = '0'\n",
    "    nw_addr = \".\".join(new_addr_list)\n",
    "    nw_addr\n",
    "    broadcast_address_list = octats\n",
    "    broadcast_address_list[-1] = '255'\n",
    "    broadcast_address = \".\".join(broadcast_address_list)\n",
    "    broadcast_address\n",
    "    print(\"The network address is \",nw_addr)\n",
    "    print(\"The broadcast address is \",broadcast_address)\n",
    "else:\n",
    "    print(\"We'll solve this tomorrow\")"
   ]
  },
  {
   "cell_type": "code",
   "execution_count": 92,
   "metadata": {
    "ExecuteTime": {
     "end_time": "2018-03-10T08:10:21.899315Z",
     "start_time": "2018-03-10T08:10:21.890940Z"
    }
   },
   "outputs": [
    {
     "ename": "SyntaxError",
     "evalue": "invalid syntax (<ipython-input-92-16274ea679f2>, line 1)",
     "output_type": "error",
     "traceback": [
      "\u001b[0;36m  File \u001b[0;32m\"<ipython-input-92-16274ea679f2>\"\u001b[0;36m, line \u001b[0;32m1\u001b[0m\n\u001b[0;31m    help(if)\u001b[0m\n\u001b[0m          ^\u001b[0m\n\u001b[0;31mSyntaxError\u001b[0m\u001b[0;31m:\u001b[0m invalid syntax\n"
     ]
    }
   ],
   "source": []
  },
  {
   "cell_type": "code",
   "execution_count": 90,
   "metadata": {
    "ExecuteTime": {
     "end_time": "2018-03-10T07:58:32.312249Z",
     "start_time": "2018-03-10T07:58:32.301762Z"
    }
   },
   "outputs": [
    {
     "data": {
      "text/plain": [
       "True"
      ]
     },
     "execution_count": 90,
     "metadata": {},
     "output_type": "execute_result"
    }
   ],
   "source": [
    "octats = ip.split('.')\n",
    "# octats[0]\n",
    "# len(octats)\n",
    "# octats[-1]\n",
    "# new_addr_list = octats\n",
    "# new_addr_list[-1] = '0'\n",
    "# print(new_addr_list)\n",
    "# nw_addr = \".\".join(new_addr_list)\n",
    "# nw_addr\n",
    "# broadcast_address_list = octats\n",
    "# broadcast_address_list[-1] = '255'\n",
    "# broadcast_address = \".\".join(broadcast_address_list)\n",
    "# broadcast_address"
   ]
  },
  {
   "cell_type": "code",
   "execution_count": 83,
   "metadata": {
    "ExecuteTime": {
     "end_time": "2018-03-10T07:56:22.443458Z",
     "start_time": "2018-03-10T07:56:22.437297Z"
    }
   },
   "outputs": [
    {
     "data": {
      "text/plain": [
       "'1--------1--------1--------255'"
      ]
     },
     "execution_count": 83,
     "metadata": {},
     "output_type": "execute_result"
    }
   ],
   "source": [
    "\"--------\".join(new_addr_list)"
   ]
  },
  {
   "cell_type": "code",
   "execution_count": null,
   "metadata": {
    "collapsed": true
   },
   "outputs": [],
   "source": []
  },
  {
   "cell_type": "code",
   "execution_count": 84,
   "metadata": {
    "ExecuteTime": {
     "end_time": "2018-03-10T07:56:38.949540Z",
     "start_time": "2018-03-10T07:56:38.936511Z"
    },
    "collapsed": true
   },
   "outputs": [],
   "source": [
    "name = 'Ashutosh'"
   ]
  },
  {
   "cell_type": "code",
   "execution_count": 88,
   "metadata": {
    "ExecuteTime": {
     "end_time": "2018-03-10T07:57:13.303239Z",
     "start_time": "2018-03-10T07:57:13.262162Z"
    }
   },
   "outputs": [
    {
     "ename": "IndexError",
     "evalue": "string index out of range",
     "output_type": "error",
     "traceback": [
      "\u001b[0;31m---------------------------------------------------------------------------\u001b[0m",
      "\u001b[0;31mIndexError\u001b[0m                                Traceback (most recent call last)",
      "\u001b[0;32m<ipython-input-88-f2ef0a636f25>\u001b[0m in \u001b[0;36m<module>\u001b[0;34m()\u001b[0m\n\u001b[0;32m----> 1\u001b[0;31m \u001b[0mname\u001b[0m\u001b[0;34m[\u001b[0m\u001b[0;36m10\u001b[0m\u001b[0;34m]\u001b[0m\u001b[0;34m\u001b[0m\u001b[0m\n\u001b[0m",
      "\u001b[0;31mIndexError\u001b[0m: string index out of range"
     ]
    }
   ],
   "source": [
    "name[]"
   ]
  }
 ],
 "metadata": {
  "kernelspec": {
   "display_name": "Python 3",
   "language": "python",
   "name": "python3"
  },
  "language_info": {
   "codemirror_mode": {
    "name": "ipython",
    "version": 3
   },
   "file_extension": ".py",
   "mimetype": "text/x-python",
   "name": "python",
   "nbconvert_exporter": "python",
   "pygments_lexer": "ipython3",
   "version": "3.6.2"
  }
 },
 "nbformat": 4,
 "nbformat_minor": 2
}
