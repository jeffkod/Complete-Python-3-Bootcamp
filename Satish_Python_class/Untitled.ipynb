{
 "cells": [
  {
   "cell_type": "code",
   "execution_count": 3,
   "metadata": {},
   "outputs": [
    {
     "name": "stdout",
     "output_type": "stream",
     "text": [
      "\n",
      "*********************************************************************\n",
      "Cisco IOU License Generator - Kal 2011, python port of 2006 C version\n"
     ]
    },
    {
     "ename": "ValueError",
     "evalue": "invalid literal for int() with base 16: ''",
     "output_type": "error",
     "traceback": [
      "\u001b[1;31m---------------------------------------------------------------------------\u001b[0m",
      "\u001b[1;31mValueError\u001b[0m                                Traceback (most recent call last)",
      "\u001b[1;32m<ipython-input-3-a99be3a48a9e>\u001b[0m in \u001b[0;36m<module>\u001b[1;34m()\u001b[0m\n\u001b[0;32m      9\u001b[0m \u001b[0mhostid\u001b[0m\u001b[1;33m=\u001b[0m\u001b[0mos\u001b[0m\u001b[1;33m.\u001b[0m\u001b[0mpopen\u001b[0m\u001b[1;33m(\u001b[0m\u001b[1;34m\"hostid\"\u001b[0m\u001b[1;33m)\u001b[0m\u001b[1;33m.\u001b[0m\u001b[0mread\u001b[0m\u001b[1;33m(\u001b[0m\u001b[1;33m)\u001b[0m\u001b[1;33m.\u001b[0m\u001b[0mstrip\u001b[0m\u001b[1;33m(\u001b[0m\u001b[1;33m)\u001b[0m\u001b[1;33m\u001b[0m\u001b[0m\n\u001b[0;32m     10\u001b[0m \u001b[0mhostname\u001b[0m \u001b[1;33m=\u001b[0m \u001b[0msocket\u001b[0m\u001b[1;33m.\u001b[0m\u001b[0mgethostname\u001b[0m\u001b[1;33m(\u001b[0m\u001b[1;33m)\u001b[0m\u001b[1;33m\u001b[0m\u001b[0m\n\u001b[1;32m---> 11\u001b[1;33m \u001b[0mioukey\u001b[0m\u001b[1;33m=\u001b[0m\u001b[0mint\u001b[0m\u001b[1;33m(\u001b[0m\u001b[0mhostid\u001b[0m\u001b[1;33m,\u001b[0m\u001b[1;36m16\u001b[0m\u001b[1;33m)\u001b[0m\u001b[1;33m\u001b[0m\u001b[0m\n\u001b[0m\u001b[0;32m     12\u001b[0m \u001b[1;32mfor\u001b[0m \u001b[0mx\u001b[0m \u001b[1;32min\u001b[0m \u001b[0mhostname\u001b[0m\u001b[1;33m:\u001b[0m\u001b[1;33m\u001b[0m\u001b[0m\n\u001b[0;32m     13\u001b[0m  \u001b[0mioukey\u001b[0m \u001b[1;33m=\u001b[0m \u001b[0mioukey\u001b[0m \u001b[1;33m+\u001b[0m \u001b[0mord\u001b[0m\u001b[1;33m(\u001b[0m\u001b[0mx\u001b[0m\u001b[1;33m)\u001b[0m\u001b[1;33m\u001b[0m\u001b[0m\n",
      "\u001b[1;31mValueError\u001b[0m: invalid literal for int() with base 16: ''"
     ]
    }
   ],
   "source": [
    "#! /usr/bin/python\n",
    "print (\"\\n*********************************************************************\")\n",
    "print (\"Cisco IOU License Generator - Kal 2011, python port of 2006 C version\")\n",
    "import os\n",
    "import socket\n",
    "import hashlib\n",
    "import struct\n",
    "# get the host id and host name to calculate the hostkey\n",
    "hostid=os.popen(\"hostid\").read().strip()\n",
    "hostname = socket.gethostname()\n",
    "ioukey=int(hostid,16)\n",
    "for x in hostname:\n",
    " ioukey = ioukey + ord(x)\n",
    "print (\"hostid=\" + hostid +\", hostname=\"+ hostname + \", ioukey=\" + hex(ioukey)[2:])\n",
    "# create the license using md5sum\n",
    "iouPad1='\\x4B\\x58\\x21\\x81\\x56\\x7B\\x0D\\xF3\\x21\\x43\\x9B\\x7E\\xAC\\x1D\\xE6\\x8A'\n",
    "iouPad2='\\x80' + 39*'\\0'\n",
    "md5input=iouPad1 + iouPad2 + struct.pack('!L', ioukey) + iouPad1\n",
    "iouLicense=hashlib.md5(md5input).hexdigest()[:16]\n",
    "# add license info to $HOME/.iourc\n",
    "print (\"\\n*********************************************************************\")\n",
    "print (\"Create the license file $HOME/.iourc with this command:\")\n",
    "print (\" echo -e '[license]\\\\n\" + hostname + \" = \" + iouLicense + \";'\" + \" | tee $HOME/.iourc \")\n",
    "print (\"\\nThe command adds the following text to $HOME/.iourc:\")\n",
    "print (\"[license]\\n\" + hostname + \" = \" + iouLicense + \";\")\n",
    "# disable phone home feature\n",
    "print (\"\\n*********************************************************************\")\n",
    "print (\"Disable the phone home feature with this command:\")\n",
    "print (\" grep -q -F '127.0.0.1 xml.cisco.com' /etc/hosts || echo '127.0.0.1 xml.cisco.com' | sudo tee -a /etc/hosts\")\n",
    "print (\"\\nThe command adds the following text to /etc/hosts:\")\n",
    "print (\"127.0.0.1 xml.cisco.com\")\n",
    "print (\"\\n*********************************************************************\")\n"
   ]
  },
  {
   "cell_type": "code",
   "execution_count": null,
   "metadata": {},
   "outputs": [],
   "source": []
  }
 ],
 "metadata": {
  "kernelspec": {
   "display_name": "Python 3",
   "language": "python",
   "name": "python3"
  },
  "language_info": {
   "codemirror_mode": {
    "name": "ipython",
    "version": 3
   },
   "file_extension": ".py",
   "mimetype": "text/x-python",
   "name": "python",
   "nbconvert_exporter": "python",
   "pygments_lexer": "ipython3",
   "version": "3.6.4"
  }
 },
 "nbformat": 4,
 "nbformat_minor": 2
}
